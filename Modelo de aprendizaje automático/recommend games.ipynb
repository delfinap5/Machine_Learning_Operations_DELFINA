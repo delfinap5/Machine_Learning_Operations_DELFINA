{
 "cells": [
  {
   "cell_type": "code",
   "execution_count": 5,
   "metadata": {},
   "outputs": [],
   "source": [
    "import pandas as pd\n",
    "import numpy as np\n",
    "from sklearn.feature_extraction.text import TfidfVectorizer\n",
    "from sklearn.metrics.pairwise import cosine_similarity"
   ]
  },
  {
   "cell_type": "code",
   "execution_count": 15,
   "metadata": {},
   "outputs": [],
   "source": [
    "# Cargar los datos\n",
    "steam_games = pd.read_csv('C:/Users/delfi/Downloads/delfina local/PI MLOps - STEAM - DELFINA/datasets/steam_games.csv', usecols=['genres', 'tags', 'id', 'title'])\n",
    "df_steam_games = pd.DataFrame(steam_games)\n",
    "\n",
    "# Eliminar filas con valores faltantes\n",
    "df_steam_games = df_steam_games.dropna(subset=['genres'])\n",
    "\n",
    "# Establecer la columna 'id' como el índice del DataFrame\n",
    "df_steam_games.set_index('id', inplace=True)\n",
    "\n",
    "# Preprocesamiento y combinación de datos relevantes\n",
    "df_steam_games['combined_features'] = df_steam_games['genres'].fillna('') + ' ' + df_steam_games['tags'].fillna('') + ' ' + df_steam_games['title'].fillna('')\n",
    "\n",
    "# ambio el type para reducir uso de memoria\n",
    "df_steam_games[['genres', 'title', 'tags', 'combined_features']] = df_steam_games[['genres', 'title', 'tags', 'combined_features']].astype('category')\n",
    "\n",
    "# Muestra aleatoria para reducir el tamaño del DataFrame \n",
    "steam_games_sample = df_steam_games.sample(frac=0.3, random_state=42)\n",
    "\n",
    "del df_steam_games"
   ]
  },
  {
   "cell_type": "code",
   "execution_count": 11,
   "metadata": {},
   "outputs": [],
   "source": [
    "steam_games_sample[['genres', 'title', 'tags', 'combined_features']] = steam_games_sample[['genres', 'title', 'tags', 'combined_features']].astype('category')\n",
    "steam_games_sample.index = steam_games_sample.index.astype(np.int16)"
   ]
  },
  {
   "cell_type": "code",
   "execution_count": 16,
   "metadata": {},
   "outputs": [
    {
     "data": {
      "text/html": [
       "<div>\n",
       "<style scoped>\n",
       "    .dataframe tbody tr th:only-of-type {\n",
       "        vertical-align: middle;\n",
       "    }\n",
       "\n",
       "    .dataframe tbody tr th {\n",
       "        vertical-align: top;\n",
       "    }\n",
       "\n",
       "    .dataframe thead th {\n",
       "        text-align: right;\n",
       "    }\n",
       "</style>\n",
       "<table border=\"1\" class=\"dataframe\">\n",
       "  <thead>\n",
       "    <tr style=\"text-align: right;\">\n",
       "      <th></th>\n",
       "      <th>genres</th>\n",
       "      <th>title</th>\n",
       "      <th>tags</th>\n",
       "      <th>combined_features</th>\n",
       "    </tr>\n",
       "    <tr>\n",
       "      <th>id</th>\n",
       "      <th></th>\n",
       "      <th></th>\n",
       "      <th></th>\n",
       "      <th></th>\n",
       "    </tr>\n",
       "  </thead>\n",
       "  <tbody>\n",
       "    <tr>\n",
       "      <th>292990.0</th>\n",
       "      <td>Strategy</td>\n",
       "      <td>NOBUNAGA'S AMBITION: Souzou (Traditional Chine...</td>\n",
       "      <td>Strategy, Historical</td>\n",
       "      <td>Strategy Strategy, Historical NOBUNAGA'S AMBIT...</td>\n",
       "    </tr>\n",
       "    <tr>\n",
       "      <th>446760.0</th>\n",
       "      <td>Action, Indie</td>\n",
       "      <td>Neighborhorde</td>\n",
       "      <td>Action, Indie, Zombies, Survival, Co-op, 4 Pla...</td>\n",
       "      <td>Action, Indie Action, Indie, Zombies, Survival...</td>\n",
       "    </tr>\n",
       "    <tr>\n",
       "      <th>659750.0</th>\n",
       "      <td>Action, Adventure, Indie</td>\n",
       "      <td>Reversed Dreamland</td>\n",
       "      <td>Indie, Adventure, Action, 2D, Platformer, Sing...</td>\n",
       "      <td>Action, Adventure, Indie Indie, Adventure, Act...</td>\n",
       "    </tr>\n",
       "    <tr>\n",
       "      <th>492890.0</th>\n",
       "      <td>Casual, Free to Play, Indie</td>\n",
       "      <td>Crusaders of the Lost Idols - Epic Starter Pack</td>\n",
       "      <td>Indie, Casual, Free to Play</td>\n",
       "      <td>Casual, Free to Play, Indie Indie, Casual, Fre...</td>\n",
       "    </tr>\n",
       "    <tr>\n",
       "      <th>234370.0</th>\n",
       "      <td>Action, Adventure, Indie</td>\n",
       "      <td>Shattered Haven</td>\n",
       "      <td>Action, Adventure, Indie, Puzzle, Zombies, 2D</td>\n",
       "      <td>Action, Adventure, Indie Action, Adventure, In...</td>\n",
       "    </tr>\n",
       "  </tbody>\n",
       "</table>\n",
       "</div>"
      ],
      "text/plain": [
       "                               genres  \\\n",
       "id                                      \n",
       "292990.0                     Strategy   \n",
       "446760.0                Action, Indie   \n",
       "659750.0     Action, Adventure, Indie   \n",
       "492890.0  Casual, Free to Play, Indie   \n",
       "234370.0     Action, Adventure, Indie   \n",
       "\n",
       "                                                      title  \\\n",
       "id                                                            \n",
       "292990.0  NOBUNAGA'S AMBITION: Souzou (Traditional Chine...   \n",
       "446760.0                                      Neighborhorde   \n",
       "659750.0                                 Reversed Dreamland   \n",
       "492890.0    Crusaders of the Lost Idols - Epic Starter Pack   \n",
       "234370.0                                    Shattered Haven   \n",
       "\n",
       "                                                       tags  \\\n",
       "id                                                            \n",
       "292990.0                               Strategy, Historical   \n",
       "446760.0  Action, Indie, Zombies, Survival, Co-op, 4 Pla...   \n",
       "659750.0  Indie, Adventure, Action, 2D, Platformer, Sing...   \n",
       "492890.0                        Indie, Casual, Free to Play   \n",
       "234370.0      Action, Adventure, Indie, Puzzle, Zombies, 2D   \n",
       "\n",
       "                                          combined_features  \n",
       "id                                                           \n",
       "292990.0  Strategy Strategy, Historical NOBUNAGA'S AMBIT...  \n",
       "446760.0  Action, Indie Action, Indie, Zombies, Survival...  \n",
       "659750.0  Action, Adventure, Indie Indie, Adventure, Act...  \n",
       "492890.0  Casual, Free to Play, Indie Indie, Casual, Fre...  \n",
       "234370.0  Action, Adventure, Indie Action, Adventure, In...  "
      ]
     },
     "execution_count": 16,
     "metadata": {},
     "output_type": "execute_result"
    }
   ],
   "source": [
    "steam_games_sample.head()\n"
   ]
  },
  {
   "cell_type": "code",
   "execution_count": 18,
   "metadata": {},
   "outputs": [],
   "source": [
    "# Creación de la matriz TF-IDF\n",
    "tfidf = TfidfVectorizer(stop_words='english')\n",
    "tfidf_matrix = tfidf.fit_transform(steam_games_sample['combined_features'])\n",
    "\n",
    "# Calcular la similitud del coseno\n",
    "cosine_sim = cosine_similarity(tfidf_matrix, tfidf_matrix)"
   ]
  },
  {
   "cell_type": "code",
   "execution_count": 21,
   "metadata": {},
   "outputs": [],
   "source": [
    "def get_recommendations(id, cosine_sim=cosine_sim, df=steam_games_sample):\n",
    "    \"\"\"\n",
    "    Obtiene recomendaciones de juegos similares al producto ingresado mediante su ID.\n",
    "\n",
    "    Parámetros:\n",
    "    id (int): ID del producto para el cual se desean obtener recomendaciones.\n",
    "    cosine_sim (array): Matriz de similitud del coseno entre los juegos.\n",
    "    df (DataFrame): DataFrame con los datos de juegos y características relevantes.\n",
    "\n",
    "    Retorna:\n",
    "    pandas.Series o str: Una serie de títulos de juegos recomendados si se encuentran datos para el ID proporcionado.\n",
    "                         Si no se encuentran datos para el ID, retorna un mensaje indicando que no se encontraron datos.\n",
    "    \"\"\"\n",
    "    # Verificar si el ID del producto está presente en los índices\n",
    "    if id not in df.index:\n",
    "        return \"No se encontraron datos para este ID de producto.\"\n",
    "    \n",
    "    # Obtener el índice del producto según el ID ingresado\n",
    "    idx = df.index.get_loc(id)\n",
    "\n",
    "    # Calcular la similitud entre el producto ingresado y los demás productos\n",
    "    sim_scores = list(enumerate(cosine_sim[idx]))\n",
    "    sim_scores = sorted(sim_scores, key=lambda x: x[1], reverse=True)\n",
    "    sim_scores = sim_scores[1:6]  # Top 5 juegos similares\n",
    "    \n",
    "    # Obtener los índices de los juegos similares\n",
    "    game_indices = [i[0] for i in sim_scores]\n",
    "    \n",
    "    # Devolver los títulos de los juegos similares encontrados\n",
    "    return df['title'].iloc[game_indices]"
   ]
  },
  {
   "cell_type": "code",
   "execution_count": 22,
   "metadata": {},
   "outputs": [
    {
     "name": "stdout",
     "output_type": "stream",
     "text": [
      "id\n",
      "298771.0    Nobunaga's Ambition: Souzou - \"Nobunaga's Ambi...\n",
      "440914.0    NOBUNAGA'S AMBITION: Souzou SR - “Nobunaga's A...\n",
      "297892.0    Nobunaga's Ambition: Souzou - Scenario Itsukus...\n",
      "297895.0    Nobunaga's Ambition: Souzou - Scenario Shingen...\n",
      "297894.0    Nobunaga's Ambition: Souzou - Scenario Dokugan...\n",
      "Name: title, dtype: category\n",
      "Categories (28827, object): ['! That Bastard Is Trying To Steal Our Gold !', '\"Barely Attuned Magic Thingy\" Staff', '\"Glow Ball\" - The billiard puzzle game', '\"Just Another Day\" - Seduce Me Otome CD', ..., '４人打ちアクション麻雀 / ACTION MAHJONG', '＜/reality＞', '＜/reality＞ Original Soundtrack', '🔴 Circles']\n"
     ]
    }
   ],
   "source": [
    "# Obtener recomendaciones para el producto con ID 292990.0\n",
    "recomendaciones = get_recommendations(292990.0)\n",
    "\n",
    "# Verificar si hay datos disponibles para el ID proporcionado\n",
    "if isinstance(recomendaciones, pd.Series):  # Comprobar si es un objeto tipo Series\n",
    "    print(recomendaciones)  # Títulos de juegos recomendados\n",
    "else:\n",
    "    print(\"No se encontraron datos para este ID de producto.\")"
   ]
  }
 ],
 "metadata": {
  "kernelspec": {
   "display_name": "Python 3",
   "language": "python",
   "name": "python3"
  },
  "language_info": {
   "codemirror_mode": {
    "name": "ipython",
    "version": 3
   },
   "file_extension": ".py",
   "mimetype": "text/x-python",
   "name": "python",
   "nbconvert_exporter": "python",
   "pygments_lexer": "ipython3",
   "version": "3.10.0"
  }
 },
 "nbformat": 4,
 "nbformat_minor": 2
}
