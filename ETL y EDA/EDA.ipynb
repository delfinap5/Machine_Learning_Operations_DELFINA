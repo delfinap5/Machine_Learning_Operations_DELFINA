{
  "cells": [
    {
      "cell_type": "code",
      "execution_count": 21,
      "metadata": {
        "id": "gUNXkaXDSz9F"
      },
      "outputs": [],
      "source": [
        "import pandas as pd"
      ]
    },
    {
      "cell_type": "code",
      "execution_count": 34,
      "metadata": {
        "id": "w1Aba_HJWxt2"
      },
      "outputs": [],
      "source": [
        "# Cargar los datos de los archivos csv\n",
        "\n",
        "steam_games = pd.read_csv('/content/drive/MyDrive/PI MLOps - STEAM - DELFINA/datasets/steam_games.csv')\n",
        "df_steam_games = pd.DataFrame(steam_games)\n",
        "user_reviews = pd.read_csv('/content/drive/MyDrive/PI MLOps - STEAM - DELFINA/datasets/user_reviews.csv')\n",
        "df_user_reviews = pd.DataFrame(user_reviews)\n",
        "users_items = pd.read_csv('/content/drive/MyDrive/PI MLOps - STEAM - DELFINA/datasets/users_items.csv')\n",
        "df_users_items = pd.DataFrame(users_items)\n"
      ]
    },
    {
      "cell_type": "markdown",
      "metadata": {
        "id": "SGmG2OfxxkUp"
      },
      "source": [
        "## EDA para Steam Games\n"
      ]
    },
    {
      "cell_type": "code",
      "execution_count": 23,
      "metadata": {
        "colab": {
          "base_uri": "https://localhost:8080/"
        },
        "id": "ao8eoolexh_D",
        "outputId": "7025c598-ef9a-44ee-d3cf-8dbbf70bb349"
      },
      "outputs": [
        {
          "name": "stdout",
          "output_type": "stream",
          "text": [
            "Steam Games:\n",
            "<class 'pandas.core.frame.DataFrame'>\n",
            "RangeIndex: 32135 entries, 0 to 32134\n",
            "Data columns (total 13 columns):\n",
            " #   Column        Non-Null Count  Dtype  \n",
            "---  ------        --------------  -----  \n",
            " 0   publisher     24064 non-null  object \n",
            " 1   genres        28852 non-null  object \n",
            " 2   app_name      32133 non-null  object \n",
            " 3   title         30085 non-null  object \n",
            " 4   url           32135 non-null  object \n",
            " 5   release_date  29894 non-null  object \n",
            " 6   tags          31972 non-null  object \n",
            " 7   reviews_url   32133 non-null  object \n",
            " 8   specs         31465 non-null  object \n",
            " 9   price         30758 non-null  object \n",
            " 10  early_access  32135 non-null  bool   \n",
            " 11  id            32133 non-null  float64\n",
            " 12  developer     28836 non-null  object \n",
            "dtypes: bool(1), float64(1), object(11)\n",
            "memory usage: 3.0+ MB\n",
            "None\n"
          ]
        }
      ],
      "source": [
        "print(\"Steam Games:\")\n",
        "# Información general del DataFrame\n",
        "print(steam_games.info())"
      ]
    },
    {
      "cell_type": "code",
      "execution_count": 24,
      "metadata": {
        "colab": {
          "base_uri": "https://localhost:8080/"
        },
        "id": "dgouAoXFx4DS",
        "outputId": "3b89d993-602f-4456-ac49-f4ca88ef337a"
      },
      "outputs": [
        {
          "name": "stdout",
          "output_type": "stream",
          "text": [
            "Steam Games:\n",
            "                 id\n",
            "count  3.213300e+04\n",
            "mean   4.517574e+05\n",
            "std    1.827140e+05\n",
            "min    1.000000e+01\n",
            "25%    3.292800e+05\n",
            "50%    4.520600e+05\n",
            "75%    5.934000e+05\n",
            "max    2.028850e+06\n"
          ]
        }
      ],
      "source": [
        "print(\"Steam Games:\")\n",
        "# Estadísticas descriptivas para variables numéricas\n",
        "print(steam_games.describe())"
      ]
    },
    {
      "cell_type": "code",
      "execution_count": 25,
      "metadata": {
        "colab": {
          "base_uri": "https://localhost:8080/"
        },
        "id": "jPn3jikwx8O0",
        "outputId": "802a6185-0d93-413b-bc89-92756a908637"
      },
      "outputs": [
        {
          "name": "stdout",
          "output_type": "stream",
          "text": [
            "Steam Games:\n",
            "Valores únicos en 'publisher':\n",
            "Ubisoft                    385\n",
            "Dovetail Games - Trains    360\n",
            "Degica                     286\n",
            "Paradox Interactive        271\n",
            "SEGA                       251\n",
            "                          ... \n",
            "MB² Entertainment            1\n",
            "Back Of Nowhere Studios      1\n",
            "Fourfold Games               1\n",
            "Atomic Wolf                  1\n",
            "Bidoniera Games              1\n",
            "Name: publisher, Length: 8236, dtype: int64\n",
            "\n",
            "\n",
            "Valores únicos en 'genres':\n",
            "Action                                                          1880\n",
            "Action, Indie                                                   1650\n",
            "Simulation                                                      1396\n",
            "Casual, Simulation                                              1359\n",
            "Action, Adventure, Indie                                        1082\n",
            "                                                                ... \n",
            "Action, Adventure, Racing, Simulation, Strategy                    1\n",
            "Action, Adventure, Casual, Indie, Racing, Sports, Strategy         1\n",
            "Action, Adventure, Casual, Indie, Racing, Simulation, Sports       1\n",
            "Action, Massively Multiplayer, RPG, Strategy                       1\n",
            "Adventure, Casual, RPG, Simulation, Early Access                   1\n",
            "Name: genres, Length: 883, dtype: int64\n",
            "\n",
            "\n",
            "Valores únicos en 'app_name':\n",
            "Soundtrack                                3\n",
            "Goro                                      2\n",
            "Puzzle Blocks                             2\n",
            "WARZONE                                   2\n",
            "Mars 2030                                 2\n",
            "                                         ..\n",
            "Secret World Legends: Operative Bundle    1\n",
            "VR - Killing Town / 杀戮小镇                  1\n",
            "Lionheart                                 1\n",
            "Secret World Legends                      1\n",
            "Maze Run VR                               1\n",
            "Name: app_name, Length: 32094, dtype: int64\n",
            "\n",
            "\n",
            "Valores únicos en 'title':\n",
            "Soundtrack                          3\n",
            "Black Rose                          2\n",
            "MORE SWEATER? OK!                   2\n",
            "Total Extreme Wrestling             2\n",
            "The Dream Machine: Chapter 4        2\n",
            "                                   ..\n",
            "Fate/EXTELLA - Sweet Room Dream     1\n",
            "Fate/EXTELLA - Charming Bunny       1\n",
            "Fate/EXTELLA - Sable Mage Outfit    1\n",
            "Fate/EXTELLA - Gorgon Variant       1\n",
            "EXIT 2 - Directions                 1\n",
            "Name: title, Length: 30054, dtype: int64\n",
            "\n",
            "\n",
            "Valores únicos en 'url':\n",
            "http://store.steampowered.com/app/761140/Lost_Summoner_Kitty/                                 1\n",
            "http://store.steampowered.com/app/530200/Paranormal_Island/                                   1\n",
            "http://store.steampowered.com/app/462680/BalanCity/                                           1\n",
            "http://store.steampowered.com/app/518690/Seventh_Knight_PC_Security__Gaming_Accelerator_2/    1\n",
            "http://store.steampowered.com/app/513460/Agenda/                                              1\n",
            "                                                                                             ..\n",
            "http://store.steampowered.com/app/430094/Secret_World_Legends_Operative_Bundle/               1\n",
            "http://store.steampowered.com/app/676060/VR__Killing_Town/                                    1\n",
            "http://store.steampowered.com/app/494160/Lionheart/                                           1\n",
            "http://store.steampowered.com/app/215280/Secret_World_Legends/                                1\n",
            "http://store.steampowered.com/app/681550/Maze_Run_VR/                                         1\n",
            "Name: url, Length: 32135, dtype: int64\n",
            "\n",
            "\n",
            "Valores únicos en 'release_date':\n",
            "2012-10-16    100\n",
            "2017-08-31     92\n",
            "2017-09-26     89\n",
            "2017-06-21     83\n",
            "2017-07-25     78\n",
            "             ... \n",
            "2001-07-21      1\n",
            "2018-12-31      1\n",
            "2018-12-17      1\n",
            "2018-08-30      1\n",
            "2018-10-01      1\n",
            "Name: release_date, Length: 3462, dtype: int64\n",
            "\n",
            "\n",
            "Valores únicos en 'tags':\n",
            "Casual, Simulation                                                                                                             1292\n",
            "Action                                                                                                                         1105\n",
            "Simulation                                                                                                                     1085\n",
            "Strategy, RPG, Indie                                                                                                            632\n",
            "Strategy                                                                                                                        625\n",
            "                                                                                                                               ... \n",
            "Simulation, Indie, Action, Adventure, Funny, Open World, First-Person, Sandbox, Free to Play                                      1\n",
            "Indie, Casual, Puzzle, Difficult                                                                                                  1\n",
            "Adventure, Indie, Casual, Gore, Violent, RPG, Strategy, Action, Sexual Content, RPGMaker, Dark Comedy, Comedy, Funny, Memes       1\n",
            "Casual, Action, Indie, Strategy, Massively Multiplayer                                                                            1\n",
            "Early Access, Adventure, Indie, Action, Simulation, VR                                                                            1\n",
            "Name: tags, Length: 15395, dtype: int64\n",
            "\n",
            "\n",
            "Valores únicos en 'reviews_url':\n",
            "http://steamcommunity.com/app/612880/reviews/?browsefilter=mostrecent&p=1    2\n",
            "http://steamcommunity.com/app/761140/reviews/?browsefilter=mostrecent&p=1    1\n",
            "http://steamcommunity.com/app/530200/reviews/?browsefilter=mostrecent&p=1    1\n",
            "http://steamcommunity.com/app/518690/reviews/?browsefilter=mostrecent&p=1    1\n",
            "http://steamcommunity.com/app/513460/reviews/?browsefilter=mostrecent&p=1    1\n",
            "                                                                            ..\n",
            "http://steamcommunity.com/app/676060/reviews/?browsefilter=mostrecent&p=1    1\n",
            "http://steamcommunity.com/app/494160/reviews/?browsefilter=mostrecent&p=1    1\n",
            "http://steamcommunity.com/app/215280/reviews/?browsefilter=mostrecent&p=1    1\n",
            "http://steamcommunity.com/app/667090/reviews/?browsefilter=mostrecent&p=1    1\n",
            "http://steamcommunity.com/app/681550/reviews/?browsefilter=mostrecent&p=1    1\n",
            "Name: reviews_url, Length: 32132, dtype: int64\n",
            "\n",
            "\n",
            "Valores únicos en 'specs':\n",
            "Single-player                                                                                                                                                     2794\n",
            "Single-player, Downloadable Content                                                                                                                               1204\n",
            "Single-player, Shared/Split Screen, Downloadable Content, Steam Achievements, Steam Trading Cards, Partial Controller Support, Steam Cloud, Steam Leaderboards    1015\n",
            "Single-player, Steam Achievements                                                                                                                                  824\n",
            "Multi-player, Co-op, Cross-Platform Multiplayer, Downloadable Content                                                                                              756\n",
            "                                                                                                                                                                  ... \n",
            "Multi-player, Online Multi-Player, Steam Trading Cards, Partial Controller Support                                                                                   1\n",
            "Downloadable Content, Steam Achievements, Full controller support, Steam Trading Cards, Steam Workshop                                                               1\n",
            "Online Multi-Player, MMO, Downloadable Content, In-App Purchases, Partial Controller Support, Valve Anti-Cheat enabled                                               1\n",
            "Single-player, Downloadable Content, Partial Controller Support, HTC Vive, Oculus Rift, Tracked Motion Controllers, Seated, Standing, Room-Scale                     1\n",
            "Multi-player, Co-op, Shared/Split Screen, Steam Achievements, Full controller support, Steam Trading Cards                                                           1\n",
            "Name: specs, Length: 4649, dtype: int64\n",
            "\n",
            "\n",
            "Valores únicos en 'price':\n",
            "4.99           4278\n",
            "9.99           3902\n",
            "2.99           3429\n",
            "0.99           2607\n",
            "1.99           2541\n",
            "               ... \n",
            "74.76             1\n",
            "32.99             1\n",
            "14.95             1\n",
            "26.99             1\n",
            "Free to Use       1\n",
            "Name: price, Length: 162, dtype: int64\n",
            "\n",
            "\n",
            "Valores únicos en 'developer':\n",
            "Ubisoft - San Francisco       1259\n",
            "SmiteWorks USA, LLC            813\n",
            "Dovetail Games                 253\n",
            "KOEI TECMO GAMES CO., LTD.     232\n",
            "Paradox Development Studio     156\n",
            "                              ... \n",
            "Royal9Games,RoyalJL              1\n",
            "Salus Games                      1\n",
            "Class of  2016-2017              1\n",
            "Pirotexnik                       1\n",
            "Bidoniera Games                  1\n",
            "Name: developer, Length: 10992, dtype: int64\n",
            "\n",
            "\n"
          ]
        }
      ],
      "source": [
        "print(\"Steam Games:\")\n",
        "# Valores únicos y frecuencias para variables categóricas\n",
        "for col in steam_games.select_dtypes(include='object').columns:\n",
        "    print(f\"Valores únicos en '{col}':\")\n",
        "    print(steam_games[col].value_counts())\n",
        "    print(\"\\n\")"
      ]
    },
    {
      "cell_type": "markdown",
      "metadata": {
        "id": "y2-BzJiHyOCd"
      },
      "source": [
        "## EDA para User Reviews"
      ]
    },
    {
      "cell_type": "code",
      "execution_count": 26,
      "metadata": {
        "colab": {
          "base_uri": "https://localhost:8080/"
        },
        "id": "KTen-RTjyUG0",
        "outputId": "8e97a9b0-b9df-4543-cc86-db0cf1262431"
      },
      "outputs": [
        {
          "name": "stdout",
          "output_type": "stream",
          "text": [
            "User Reviews:\n",
            "<class 'pandas.core.frame.DataFrame'>\n",
            "RangeIndex: 25791 entries, 0 to 25790\n",
            "Data columns (total 10 columns):\n",
            " #   Column              Non-Null Count  Dtype  \n",
            "---  ------              --------------  -----  \n",
            " 0   user_id             25791 non-null  object \n",
            " 1   user_url            25791 non-null  object \n",
            " 2   funny               4115 non-null   object \n",
            " 3   posted              20357 non-null  object \n",
            " 4   last_edited         2997 non-null   object \n",
            " 5   item_id             25790 non-null  float64\n",
            " 6   helpful             25790 non-null  object \n",
            " 7   recommend           25790 non-null  object \n",
            " 8   review              25562 non-null  object \n",
            " 9   sentiment_analysis  25789 non-null  float64\n",
            "dtypes: float64(2), object(8)\n",
            "memory usage: 2.0+ MB\n",
            "None\n"
          ]
        }
      ],
      "source": [
        "print(\"User Reviews:\")\n",
        "# Información general del DataFrame\n",
        "print(user_reviews.info())"
      ]
    },
    {
      "cell_type": "code",
      "execution_count": 28,
      "metadata": {
        "colab": {
          "base_uri": "https://localhost:8080/"
        },
        "id": "Wvob53NxyWwV",
        "outputId": "c60c6d9d-8df0-4025-93db-0db0138b8fbe"
      },
      "outputs": [
        {
          "name": "stdout",
          "output_type": "stream",
          "text": [
            "User Reviews:\n",
            "             item_id  sentiment_analysis\n",
            "count   25790.000000        25789.000000\n",
            "mean   178493.247964            1.456202\n",
            "std    133584.806321            0.770505\n",
            "min        10.000000            0.000000\n",
            "25%     17510.000000            1.000000\n",
            "50%    219640.000000            2.000000\n",
            "75%    271552.500000            2.000000\n",
            "max    527340.000000            2.000000\n"
          ]
        }
      ],
      "source": [
        "print(\"User Reviews:\")\n",
        "# Estadísticas descriptivas para variables numéricas\n",
        "print(user_reviews.describe())"
      ]
    },
    {
      "cell_type": "code",
      "execution_count": 29,
      "metadata": {
        "colab": {
          "base_uri": "https://localhost:8080/"
        },
        "id": "bcDEi9N-ybBo",
        "outputId": "b0ab0add-a7fb-49a8-a2e8-30c220d338c9"
      },
      "outputs": [
        {
          "name": "stdout",
          "output_type": "stream",
          "text": [
            "User Reviews:\n",
            "Valores únicos en 'user_id':\n",
            "76561198027488037    3\n",
            "blablabla174         3\n",
            "76561198100326818    3\n",
            "76561198051777058    3\n",
            "76561198045953692    3\n",
            "                    ..\n",
            "goneckahorse         1\n",
            "coutlindo            1\n",
            "superdedicated       1\n",
            "Spawnofelfdude       1\n",
            "LydiaMorley          1\n",
            "Name: user_id, Length: 25478, dtype: int64\n",
            "\n",
            "\n",
            "Valores únicos en 'user_url':\n",
            "http://steamcommunity.com/profiles/76561198027488037    3\n",
            "http://steamcommunity.com/id/blablabla174               3\n",
            "http://steamcommunity.com/profiles/76561198100326818    3\n",
            "http://steamcommunity.com/profiles/76561198051777058    3\n",
            "http://steamcommunity.com/profiles/76561198045953692    3\n",
            "                                                       ..\n",
            "http://steamcommunity.com/id/goneckahorse               1\n",
            "http://steamcommunity.com/id/coutlindo                  1\n",
            "http://steamcommunity.com/id/superdedicated             1\n",
            "http://steamcommunity.com/id/Spawnofelfdude             1\n",
            "http://steamcommunity.com/id/LydiaMorley                1\n",
            "Name: user_url, Length: 25478, dtype: int64\n",
            "\n",
            "\n",
            "Valores únicos en 'funny':\n",
            "1 person found this review funny      2561\n",
            "2 people found this review funny       652\n",
            "3 people found this review funny       253\n",
            "4 people found this review funny       134\n",
            "5 people found this review funny        87\n",
            "                                      ... \n",
            "75 people found this review funny        1\n",
            "89 people found this review funny        1\n",
            "71 people found this review funny        1\n",
            "48 people found this review funny        1\n",
            "198 people found this review funny       1\n",
            "Name: funny, Length: 134, dtype: int64\n",
            "\n",
            "\n",
            "Valores únicos en 'posted':\n",
            "2014-06-21    87\n",
            "2014-06-22    73\n",
            "2014-06-29    68\n",
            "2014-06-20    68\n",
            "2013-12-25    66\n",
            "              ..\n",
            "2012-06-30     1\n",
            "2013-01-12     1\n",
            "2011-07-22     1\n",
            "2012-08-09     1\n",
            "2013-05-16     1\n",
            "Name: posted, Length: 1449, dtype: int64\n",
            "\n",
            "\n",
            "Valores únicos en 'last_edited':\n",
            "Last edited November 25, 2013.    51\n",
            "Last edited April 17.             12\n",
            "Last edited May 23.               12\n",
            "Last edited November 2, 2014.     11\n",
            "Last edited June 6, 2015.         11\n",
            "                                  ..\n",
            "Last edited March 29, 2014.        1\n",
            "Last edited June 19, 2014.         1\n",
            "Last edited June 15, 2014.         1\n",
            "Last edited April 21, 2015.        1\n",
            "Last edited October 21, 2014.      1\n",
            "Name: last_edited, Length: 921, dtype: int64\n",
            "\n",
            "\n",
            "Valores únicos en 'helpful':\n",
            "No ratings yet                                       12416\n",
            "1 of 1 people (100%) found this review helpful        2825\n",
            "0 of 1 people (0%) found this review helpful          1800\n",
            "1 of 2 people (50%) found this review helpful         1118\n",
            "2 of 2 people (100%) found this review helpful         851\n",
            "                                                     ...  \n",
            "259 of 309 people (84%) found this review helpful        1\n",
            "34 of 44 people (77%) found this review helpful          1\n",
            "62 of 82 people (76%) found this review helpful          1\n",
            "10 of 31 people (32%) found this review helpful          1\n",
            "23 of 24 people (96%) found this review helpful          1\n",
            "Name: helpful, Length: 871, dtype: int64\n",
            "\n",
            "\n",
            "Valores únicos en 'recommend':\n",
            "True     22545\n",
            "False     3245\n",
            "Name: recommend, dtype: int64\n",
            "\n",
            "\n",
            "Valores únicos en 'review':\n",
            "good game                                                                                                                                                                                                                                                                                                                                                                                                                                                                                                                                                                                                                                                                                                                                                                                                                                               46\n",
            "                                                                                                                                                                                                                                                                                                                                                                                                                                                                                                                                                                                                                                                                                                                                                                                                                                                        42\n",
            "good                                                                                                                                                                                                                                                                                                                                                                                                                                                                                                                                                                                                                                                                                                                                                                                                                                                    33\n",
            "great game                                                                                                                                                                                                                                                                                                                                                                                                                                                                                                                                                                                                                                                                                                                                                                                                                                              28\n",
            "fun                                                                                                                                                                                                                                                                                                                                                                                                                                                                                                                                                                                                                                                                                                                                                                                                                                                     25\n",
            "                                                                                                                                                                                                                                                                                                                                                                                                                                                                                                                                                                                                                                                                                                                                                                                                                                                        ..\n",
            "Every round ever in Chivalry: Medieval Warfare:Chat: All\"Agartha are taking the gates\"Wizard Sleeves: Help Defend the Gates for  sake!Commander: This team I swear!FreDDy: Sorry Man!Rolf Harris: ?Jeff: Sorry Bro!Wizard Sleeves: Get out of my en Way!Rolanpic: Sorry!Audis: Why the team kill Wizard?-Zombie- Assasin: en Archers!Soned Goat: Sorry to who ever I killed!(Respawn Time: 3 seconds added for team damage)-Zombie- Assasin: Lets make a Clan! Who will join?Audis: A clan against what?Loliop: Sorry again dude xDA happy Bunny: Sorry man!Audis: Sorry!-Zombie- Assasin: A hate clan against Archers!a hobo in a bin: Why hate archers? Just cause we have skill!-Zombie- Assasin:  off...Games teaches you to touch type the word \"Sorry\" Ultra Fast! 10/10 Would Take team damage again! 10/10Team kill simualor all years! 8/10     1\n",
            "This game is amazing!                                                                                                                                                                                                                                                                                                                                                                                                                                                                                                                                                                                                                                                                                                                                                                                                                                    1\n",
            "Amazing as fuuuuuuuuuuuuk                                                                                                                                                                                                                                                                                                                                                                                                                                                                                                                                                                                                                                                                                                                                                                                                                                1\n",
            "This game is one of the best games I've played!.........Just saying.                                                                                                                                                                                                                                                                                                                                                                                                                                                                                                                                                                                                                                                                                                                                                                                     1\n",
            " 10/10    8/10 lag 1/10  airdrop 7/10                                                                                                                                                                                                                                                                                                                                                                                                                                                                                                                                                                                                                                                                                                                                                                                                                    1\n",
            "Name: review, Length: 23996, dtype: int64\n",
            "\n",
            "\n"
          ]
        }
      ],
      "source": [
        "print(\"User Reviews:\")\n",
        "# Valores únicos y frecuencias para variables categóricas\n",
        "for col in user_reviews.select_dtypes(include='object').columns:\n",
        "    print(f\"Valores únicos en '{col}':\")\n",
        "    print(user_reviews[col].value_counts())\n",
        "    print(\"\\n\")"
      ]
    },
    {
      "cell_type": "markdown",
      "metadata": {
        "id": "suPKVbKqykzD"
      },
      "source": [
        "## EDA para Users Items"
      ]
    },
    {
      "cell_type": "code",
      "execution_count": 30,
      "metadata": {
        "colab": {
          "base_uri": "https://localhost:8080/"
        },
        "id": "rh0adi3tyr9-",
        "outputId": "44940373-ac7e-46d0-f531-882ad5500fbf"
      },
      "outputs": [
        {
          "name": "stdout",
          "output_type": "stream",
          "text": [
            "Users Items:\n",
            "<class 'pandas.core.frame.DataFrame'>\n",
            "RangeIndex: 88176 entries, 0 to 88175\n",
            "Data columns (total 8 columns):\n",
            " #   Column            Non-Null Count  Dtype  \n",
            "---  ------            --------------  -----  \n",
            " 0   user_id           88176 non-null  object \n",
            " 1   items_count       88176 non-null  float64\n",
            " 2   steam_id          88176 non-null  int64  \n",
            " 3   user_url          88176 non-null  object \n",
            " 4   item_id           88176 non-null  int64  \n",
            " 5   item_name         88176 non-null  object \n",
            " 6   playtime_forever  88176 non-null  float64\n",
            " 7   playtime_2weeks   88176 non-null  float64\n",
            "dtypes: float64(3), int64(2), object(3)\n",
            "memory usage: 5.4+ MB\n",
            "None\n"
          ]
        }
      ],
      "source": [
        "print(\"Users Items:\")\n",
        "# Información general del DataFrame\n",
        "print(users_items.info())"
      ]
    },
    {
      "cell_type": "code",
      "execution_count": 31,
      "metadata": {
        "colab": {
          "base_uri": "https://localhost:8080/"
        },
        "id": "agQTWCa1yuzr",
        "outputId": "6242db35-235f-42b1-ab71-bda229a8c4d0"
      },
      "outputs": [
        {
          "name": "stdout",
          "output_type": "stream",
          "text": [
            "Users Items:\n",
            "        items_count      steam_id        item_id  playtime_forever  \\\n",
            "count  88176.000000  8.817600e+04   88176.000000      88176.000000   \n",
            "mean      58.349211  7.656120e+16  188589.987763       1334.142340   \n",
            "std      122.301533  3.931738e+07  133282.962591       7054.061431   \n",
            "min        0.000000  7.656120e+16      10.000000          0.000000   \n",
            "25%        3.000000  7.656120e+16   40800.000000          0.000000   \n",
            "50%       26.000000  7.656120e+16  219740.000000         52.000000   \n",
            "75%       73.000000  7.656120e+16  282140.000000        458.000000   \n",
            "max     7762.000000  7.656120e+16  527810.000000     400827.000000   \n",
            "\n",
            "       playtime_2weeks  \n",
            "count      88176.00000  \n",
            "mean          23.79931  \n",
            "std          267.57286  \n",
            "min            0.00000  \n",
            "25%            0.00000  \n",
            "50%            0.00000  \n",
            "75%            0.00000  \n",
            "max        18126.00000  \n"
          ]
        }
      ],
      "source": [
        "print(\"Users Items:\")\n",
        "# Estadísticas descriptivas para variables numéricas\n",
        "print(users_items.describe())"
      ]
    },
    {
      "cell_type": "code",
      "execution_count": 32,
      "metadata": {
        "colab": {
          "base_uri": "https://localhost:8080/"
        },
        "id": "30vbGwjtysz1",
        "outputId": "6179d215-1f4a-4727-d1ad-08b980e80ee7"
      },
      "outputs": [
        {
          "name": "stdout",
          "output_type": "stream",
          "text": [
            "Users Items:\n",
            "Valores únicos en 'user_id':\n",
            "76561198094973305    3\n",
            "76561198072861800    3\n",
            "76561198045953692    3\n",
            "76561198100326818    3\n",
            "76561198309337430    3\n",
            "                    ..\n",
            "Joeliepolie          1\n",
            "Joelthymole          1\n",
            "pirificpower         1\n",
            "76561198051204223    1\n",
            "edward_tremethick    1\n",
            "Name: user_id, Length: 87496, dtype: int64\n",
            "\n",
            "\n",
            "Valores únicos en 'user_url':\n",
            "http://steamcommunity.com/profiles/76561198094973305    3\n",
            "http://steamcommunity.com/profiles/76561198072861800    3\n",
            "http://steamcommunity.com/profiles/76561198045953692    3\n",
            "http://steamcommunity.com/profiles/76561198100326818    3\n",
            "http://steamcommunity.com/profiles/76561198309337430    3\n",
            "                                                       ..\n",
            "http://steamcommunity.com/id/Joeliepolie                1\n",
            "http://steamcommunity.com/id/Joelthymole                1\n",
            "http://steamcommunity.com/id/pirificpower               1\n",
            "http://steamcommunity.com/profiles/76561198051204223    1\n",
            "http://steamcommunity.com/id/edward_tremethick          1\n",
            "Name: user_url, Length: 87496, dtype: int64\n",
            "\n",
            "\n",
            "Valores únicos en 'item_name':\n",
            "Counter-Strike: Global Offensive    700\n",
            "Garry's Mod                         654\n",
            "Dota 2 Test                         643\n",
            "Unturned                            610\n",
            "Left 4 Dead 2 Beta                  532\n",
            "                                   ... \n",
            "Hero of Many                          1\n",
            "The Old City: Leviathan               1\n",
            "Olympia Rising                        1\n",
            "The Floor is Jelly                    1\n",
            "Winged Sakura: Mindy's Arc            1\n",
            "Name: item_name, Length: 5382, dtype: int64\n",
            "\n",
            "\n"
          ]
        }
      ],
      "source": [
        "print(\"Users Items:\")\n",
        "# Valores únicos y frecuencias para variables categóricas\n",
        "for col in users_items.select_dtypes(include = ['object']).columns:\n",
        "    print(f\"Valores únicos en '{col}':\")\n",
        "    print(users_items[col].value_counts())\n",
        "    print(\"\\n\")"
      ]
    }
  ],
  "metadata": {
    "colab": {
      "provenance": []
    },
    "kernelspec": {
      "display_name": "Python 3",
      "name": "python3"
    },
    "language_info": {
      "name": "python"
    }
  },
  "nbformat": 4,
  "nbformat_minor": 0
}
