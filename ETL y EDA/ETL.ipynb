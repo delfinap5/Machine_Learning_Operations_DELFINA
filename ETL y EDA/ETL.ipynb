{
  "cells": [
    {
      "cell_type": "markdown",
      "metadata": {
        "id": "dTRWoF6H4kLB"
      },
      "source": [
        "### **Librerias**"
      ]
    },
    {
      "cell_type": "code",
      "execution_count": 1,
      "metadata": {
        "colab": {
          "base_uri": "https://localhost:8080/"
        },
        "id": "P33XtdX8sP7P",
        "outputId": "0c7d3763-80d1-494c-deb6-f37d95005aa4"
      },
      "outputs": [
        {
          "name": "stderr",
          "output_type": "stream",
          "text": [
            "[nltk_data] Downloading package vader_lexicon to\n",
            "[nltk_data]     C:\\Users\\delfi\\AppData\\Roaming\\nltk_data...\n",
            "[nltk_data]   Package vader_lexicon is already up-to-date!\n"
          ]
        },
        {
          "data": {
            "text/plain": [
              "True"
            ]
          },
          "execution_count": 1,
          "metadata": {},
          "output_type": "execute_result"
        }
      ],
      "source": [
        "import numpy as np\n",
        "import gzip\n",
        "import json\n",
        "import ast\n",
        "import pandas as pd\n",
        "import shutil\n",
        "import re\n",
        "from nltk.sentiment import SentimentIntensityAnalyzer\n",
        "import nltk\n",
        "nltk.download('vader_lexicon')"
      ]
    },
    {
      "cell_type": "markdown",
      "metadata": {
        "id": "pSApTlQP_RlJ"
      },
      "source": [
        "# ***TRANSFORMACIONES***"
      ]
    },
    {
      "cell_type": "markdown",
      "metadata": {
        "id": "-5H-MBzksUwm"
      },
      "source": [
        "# **User reviews**"
      ]
    },
    {
      "cell_type": "code",
      "execution_count": 2,
      "metadata": {
        "id": "LfIjh9nx_MyD"
      },
      "outputs": [],
      "source": [
        "# Descomprimo el archivo user reviews\n",
        "\n",
        "\n",
        "# Ruta al archivo comprimido\n",
        "ruta_comprimida_ur= 'datasets/user_reviews.json.gz'\n",
        "\n",
        "# Ruta para guardar temporalmente el archivo descomprimido en Colab\n",
        "ruta_temporal_ur = 'datasets/user_reviews.json'\n",
        "\n",
        "# Descomprimir el archivo\n",
        "with gzip.open(ruta_comprimida_ur, 'rb') as f_in:\n",
        "    with open(ruta_temporal_ur, 'wb') as f_out:\n",
        "            shutil.copyfileobj(f_in, f_out)"
      ]
    },
    {
      "cell_type": "code",
      "execution_count": 3,
      "metadata": {
        "id": "YkXijP3vgV6P"
      },
      "outputs": [],
      "source": [
        "# lista_ur es una lista para almacenar los diccionarios obtenidos del archivo JSON\n",
        "lista_ur = []\n",
        "\n",
        "# Abro el archivo con la ruta especificada, utilizando el encoding 'utf-8'\n",
        "with open(ruta_temporal_ur, encoding='utf-8') as file:\n",
        "    # Itero sobre cada línea del archivo\n",
        "    for line in file.readlines():\n",
        "        # Convierto cada línea (que se asume contiene un diccionario JSON válido) a un diccionario de Python\n",
        "        # Utilizo ast.literal_eval() para interpretar la línea como una expresión literal de Python\n",
        "        lista_ur.append(ast.literal_eval(line))"
      ]
    },
    {
      "cell_type": "code",
      "execution_count": 4,
      "metadata": {
        "id": "0bk5bBD8gVxv"
      },
      "outputs": [],
      "source": [
        "# Guardo el archivo en un DataFrame\n",
        "df_user_r = pd.DataFrame(lista_ur)\n",
        "# Expandir los diccionarios en las listas de la columna 'reviews' en nuevas columnas\n",
        "df_expanded = pd.json_normalize(df_user_r['reviews'].explode())\n",
        "\n",
        "# Concatenar las columnas expandidas con el DataFrame original y eliminar la columna 'reviews'\n",
        "df_user_r = pd.concat([df_user_r.drop(columns='reviews'), df_expanded], axis=1)"
      ]
    },
    {
      "cell_type": "markdown",
      "metadata": {
        "id": "lY8iHhcL4JRd"
      },
      "source": [
        "# ***FEATURE ENGINEERING***"
      ]
    },
    {
      "cell_type": "markdown",
      "metadata": {
        "id": "Weso50T9Sqtv"
      },
      "source": [
        "### Limpieza"
      ]
    },
    {
      "cell_type": "code",
      "execution_count": 5,
      "metadata": {
        "id": "yYoEfwE56xaz"
      },
      "outputs": [],
      "source": [
        "# convierto la columna review a un string\n",
        "df_user_r['review'] = df_user_r['review'].astype(str)"
      ]
    },
    {
      "cell_type": "code",
      "execution_count": 6,
      "metadata": {
        "id": "QWqfE6cYJAL9"
      },
      "outputs": [],
      "source": [
        "# Funcion para eliminar emojis y simbolos\n",
        "def clean_text(text):\n",
        "    '''\n",
        "    Esta función elimina emojis y símbolos no ASCII de un texto dado.\n",
        "\n",
        "    Argumentos:\n",
        "    text: El texto del que se eliminarán los emojis y símbolos\n",
        "\n",
        "    Devuelve:\n",
        "    cleaned_text: El texto sin emojis ni símbolos no ASCII\n",
        "    '''\n",
        "    cleaned_text = re.sub(r'[^\\x00-\\x7F]+|', '', text)\n",
        "    return cleaned_text\n",
        "\n",
        "# for col in columnas:\n",
        "df_user_r['review'] = df_user_r['review'].apply(clean_text)"
      ]
    },
    {
      "cell_type": "code",
      "execution_count": 7,
      "metadata": {
        "id": "bEr8d80cNS0P"
      },
      "outputs": [],
      "source": [
        "# Elimino filas duplicadas basadas en todas las columnas de User Reviews\n",
        "ur_no_duplicados = df_user_r.drop_duplicates()\n",
        "df_user_r = ur_no_duplicados\n",
        "\n",
        "# Elimino valores nulos\n",
        "df_user_r= df_user_r.dropna()"
      ]
    },
    {
      "cell_type": "code",
      "execution_count": 8,
      "metadata": {
        "id": "x4w2lmI-Vh9m"
      },
      "outputs": [],
      "source": [
        "# Crear instancia del analizador de sentimientos de VADER en NLTK\n",
        "sia = SentimentIntensityAnalyzer()\n",
        "\n",
        "# Función para obtener el análisis de sentimiento y asignar valores en la escala dada\n",
        "def analysis_sentiment_NLTK(text):\n",
        "\n",
        "    '''\n",
        "    Realiza el análisis de sentimiento utilizando VADER de NLTK.\n",
        "\n",
        "    Parámetros:\n",
        "    text (str): El texto a analizar para determinar su sentimiento.\n",
        "\n",
        "    Retorna:\n",
        "    int: El valor de sentimiento asignado según la escala dada:\n",
        "         - 0 si es 'malo'\n",
        "         - 1 si es 'neutral' (o si no hay reseña disponible)\n",
        "         - 2 si es 'positivo'\n",
        "    '''\n",
        "\n",
        "    if pd.isnull(text):\n",
        "        return 1  # Si no hay reseña, asigna valor neutral (1)\n",
        "    else:\n",
        "        sentiment = sia.polarity_scores(text)\n",
        "        # Asigna valores según la escala dada\n",
        "        if sentiment['compound'] <= -0.05:\n",
        "            return 0  # Malo\n",
        "        elif sentiment['compound'] >= 0.05:\n",
        "            return 2  # Positivo\n",
        "        else:\n",
        "            return 1  # Neutral"
      ]
    },
    {
      "cell_type": "code",
      "execution_count": 9,
      "metadata": {
        "colab": {
          "base_uri": "https://localhost:8080/"
        },
        "id": "ofJkVv0uEc6B",
        "outputId": "1ff1ef7a-5f94-40c9-f7ed-00bacd47c06f"
      },
      "outputs": [
        {
          "name": "stderr",
          "output_type": "stream",
          "text": [
            "C:\\Users\\delfi\\AppData\\Local\\Temp\\ipykernel_9552\\3829969308.py:1: SettingWithCopyWarning: \n",
            "A value is trying to be set on a copy of a slice from a DataFrame.\n",
            "Try using .loc[row_indexer,col_indexer] = value instead\n",
            "\n",
            "See the caveats in the documentation: https://pandas.pydata.org/pandas-docs/stable/user_guide/indexing.html#returning-a-view-versus-a-copy\n",
            "  df_user_r['sentiment_analysis'] = df_user_r['review'].apply(analysis_sentiment_NLTK)\n"
          ]
        }
      ],
      "source": [
        "df_user_r['sentiment_analysis'] = df_user_r['review'].apply(analysis_sentiment_NLTK)"
      ]
    },
    {
      "cell_type": "code",
      "execution_count": 10,
      "metadata": {
        "colab": {
          "base_uri": "https://localhost:8080/"
        },
        "id": "-YX6b60kx_9y",
        "outputId": "ab53256f-fba9-48b5-aa4b-0b32f963f3c2"
      },
      "outputs": [
        {
          "name": "stderr",
          "output_type": "stream",
          "text": [
            "C:\\Users\\delfi\\AppData\\Local\\Temp\\ipykernel_9552\\1100473422.py:2: SettingWithCopyWarning: \n",
            "A value is trying to be set on a copy of a slice from a DataFrame.\n",
            "Try using .loc[row_indexer,col_indexer] = value instead\n",
            "\n",
            "See the caveats in the documentation: https://pandas.pydata.org/pandas-docs/stable/user_guide/indexing.html#returning-a-view-versus-a-copy\n",
            "  df_user_r['posted'] = df_user_r['posted'].str.replace('Posted ', '').str.replace('Posted', '')\n",
            "C:\\Users\\delfi\\AppData\\Local\\Temp\\ipykernel_9552\\1100473422.py:5: SettingWithCopyWarning: \n",
            "A value is trying to be set on a copy of a slice from a DataFrame.\n",
            "Try using .loc[row_indexer,col_indexer] = value instead\n",
            "\n",
            "See the caveats in the documentation: https://pandas.pydata.org/pandas-docs/stable/user_guide/indexing.html#returning-a-view-versus-a-copy\n",
            "  df_user_r['posted'] = df_user_r['posted'].str.replace('Posted ', '').str.replace(',', '').str.replace('.', '')\n",
            "C:\\Users\\delfi\\AppData\\Local\\Temp\\ipykernel_9552\\1100473422.py:38: SettingWithCopyWarning: \n",
            "A value is trying to be set on a copy of a slice from a DataFrame.\n",
            "Try using .loc[row_indexer,col_indexer] = value instead\n",
            "\n",
            "See the caveats in the documentation: https://pandas.pydata.org/pandas-docs/stable/user_guide/indexing.html#returning-a-view-versus-a-copy\n",
            "  df_user_r['posted'] = df_user_r['posted'].apply(convert_month_to_number)\n",
            "C:\\Users\\delfi\\AppData\\Local\\Temp\\ipykernel_9552\\1100473422.py:41: SettingWithCopyWarning: \n",
            "A value is trying to be set on a copy of a slice from a DataFrame.\n",
            "Try using .loc[row_indexer,col_indexer] = value instead\n",
            "\n",
            "See the caveats in the documentation: https://pandas.pydata.org/pandas-docs/stable/user_guide/indexing.html#returning-a-view-versus-a-copy\n",
            "  df_user_r['posted'] = df_user_r['posted'].str.replace(' ', '/')\n"
          ]
        },
        {
          "name": "stderr",
          "output_type": "stream",
          "text": [
            "C:\\Users\\delfi\\AppData\\Local\\Temp\\ipykernel_9552\\1100473422.py:44: SettingWithCopyWarning: \n",
            "A value is trying to be set on a copy of a slice from a DataFrame.\n",
            "Try using .loc[row_indexer,col_indexer] = value instead\n",
            "\n",
            "See the caveats in the documentation: https://pandas.pydata.org/pandas-docs/stable/user_guide/indexing.html#returning-a-view-versus-a-copy\n",
            "  df_user_r['posted'] = df_user_r['posted'].str.replace(r'(\\b\\d{1}\\b)', r'0\\1', regex=True)\n",
            "C:\\Users\\delfi\\AppData\\Local\\Temp\\ipykernel_9552\\1100473422.py:47: SettingWithCopyWarning: \n",
            "A value is trying to be set on a copy of a slice from a DataFrame.\n",
            "Try using .loc[row_indexer,col_indexer] = value instead\n",
            "\n",
            "See the caveats in the documentation: https://pandas.pydata.org/pandas-docs/stable/user_guide/indexing.html#returning-a-view-versus-a-copy\n",
            "  df_user_r['posted'] = pd.to_datetime(df_user_r['posted'], errors='coerce')\n"
          ]
        }
      ],
      "source": [
        "# Reemplazar todas las ocurrencias de 'Posted' con una cadena vacía en la columna 'posted'\n",
        "df_user_r['posted'] = df_user_r['posted'].str.replace('Posted ', '').str.replace('Posted', '')\n",
        "\n",
        "# Reemplazar 'Posted', coma y punto con una cadena vacía en la columna 'posted'\n",
        "df_user_r['posted'] = df_user_r['posted'].str.replace('Posted ', '').str.replace(',', '').str.replace('.', '')\n",
        "\n",
        "\n",
        "# Diccionario para mapear los nombres de los meses a números\n",
        "month_dict = {\n",
        "    'January': '01',\n",
        "    'February': '02',\n",
        "    'March': '03',\n",
        "    'April': '04',\n",
        "    'May': '05',\n",
        "    'June': '06',\n",
        "    'July': '07',\n",
        "    'August': '08',\n",
        "    'September': '09',\n",
        "    'October': '10',\n",
        "    'November': '11',\n",
        "    'December': '12'\n",
        "}\n",
        "\n",
        "# Función para cambiar los nombres de los meses a números\n",
        "def convert_month_to_number(date):\n",
        "    if isinstance(date, str):  # Verificar si es una cadena de texto\n",
        "        date_parts = date.split()\n",
        "        for month_name, month_number in month_dict.items():\n",
        "            if month_name in date_parts:\n",
        "                date_parts[date_parts.index(month_name)] = month_number\n",
        "                break\n",
        "        return ' '.join(date_parts)\n",
        "    else:\n",
        "        return date  # Mantener el valor original si no es una cadena de texto}\n",
        "\n",
        "\n",
        "# Aplicar la función a la columna 'posted'\n",
        "df_user_r['posted'] = df_user_r['posted'].apply(convert_month_to_number)\n",
        "\n",
        "# Reemplaza los espacios con /\n",
        "df_user_r['posted'] = df_user_r['posted'].str.replace(' ', '/')\n",
        "\n",
        "# Reemplazar los días con un solo dígito por días con dos dígitos\n",
        "df_user_r['posted'] = df_user_r['posted'].str.replace(r'(\\b\\d{1}\\b)', r'0\\1', regex=True)\n",
        "\n",
        "# permitirá que pandas convierta las fechas válidas y ponga los valores no válidos como NaT (Not a Time)\n",
        "df_user_r['posted'] = pd.to_datetime(df_user_r['posted'], errors='coerce')"
      ]
    },
    {
      "cell_type": "code",
      "execution_count": 11,
      "metadata": {
        "colab": {
          "base_uri": "https://localhost:8080/",
          "height": 1000
        },
        "id": "uU4sJ6CHRRZx",
        "outputId": "3fd760b0-e615-45db-f6dc-9b95c37c2b7c"
      },
      "outputs": [
        {
          "data": {
            "text/html": [
              "<div>\n",
              "<style scoped>\n",
              "    .dataframe tbody tr th:only-of-type {\n",
              "        vertical-align: middle;\n",
              "    }\n",
              "\n",
              "    .dataframe tbody tr th {\n",
              "        vertical-align: top;\n",
              "    }\n",
              "\n",
              "    .dataframe thead th {\n",
              "        text-align: right;\n",
              "    }\n",
              "</style>\n",
              "<table border=\"1\" class=\"dataframe\">\n",
              "  <thead>\n",
              "    <tr style=\"text-align: right;\">\n",
              "      <th></th>\n",
              "      <th>user_id</th>\n",
              "      <th>user_url</th>\n",
              "      <th>funny</th>\n",
              "      <th>posted</th>\n",
              "      <th>last_edited</th>\n",
              "      <th>item_id</th>\n",
              "      <th>helpful</th>\n",
              "      <th>recommend</th>\n",
              "      <th>review</th>\n",
              "      <th>sentiment_analysis</th>\n",
              "    </tr>\n",
              "  </thead>\n",
              "  <tbody>\n",
              "    <tr>\n",
              "      <th>0</th>\n",
              "      <td>76561197970982479</td>\n",
              "      <td>http://steamcommunity.com/profiles/76561197970...</td>\n",
              "      <td></td>\n",
              "      <td>2011-11-05</td>\n",
              "      <td></td>\n",
              "      <td>1250</td>\n",
              "      <td>No ratings yet</td>\n",
              "      <td>True</td>\n",
              "      <td>Simple yet with great replayability. In my opi...</td>\n",
              "      <td>2</td>\n",
              "    </tr>\n",
              "    <tr>\n",
              "      <th>1</th>\n",
              "      <td>js41637</td>\n",
              "      <td>http://steamcommunity.com/id/js41637</td>\n",
              "      <td></td>\n",
              "      <td>2011-07-15</td>\n",
              "      <td></td>\n",
              "      <td>22200</td>\n",
              "      <td>No ratings yet</td>\n",
              "      <td>True</td>\n",
              "      <td>It's unique and worth a playthrough.</td>\n",
              "      <td>2</td>\n",
              "    </tr>\n",
              "    <tr>\n",
              "      <th>2</th>\n",
              "      <td>evcentric</td>\n",
              "      <td>http://steamcommunity.com/id/evcentric</td>\n",
              "      <td></td>\n",
              "      <td>2011-04-21</td>\n",
              "      <td></td>\n",
              "      <td>43110</td>\n",
              "      <td>No ratings yet</td>\n",
              "      <td>True</td>\n",
              "      <td>Great atmosphere. The gunplay can be a bit chu...</td>\n",
              "      <td>2</td>\n",
              "    </tr>\n",
              "    <tr>\n",
              "      <th>3</th>\n",
              "      <td>doctr</td>\n",
              "      <td>http://steamcommunity.com/id/doctr</td>\n",
              "      <td></td>\n",
              "      <td>2014-06-24</td>\n",
              "      <td></td>\n",
              "      <td>251610</td>\n",
              "      <td>15 of 20 people (75%) found this review helpful</td>\n",
              "      <td>True</td>\n",
              "      <td>I know what you think when you see this title ...</td>\n",
              "      <td>2</td>\n",
              "    </tr>\n",
              "    <tr>\n",
              "      <th>4</th>\n",
              "      <td>maplemage</td>\n",
              "      <td>http://steamcommunity.com/id/maplemage</td>\n",
              "      <td></td>\n",
              "      <td>2013-09-08</td>\n",
              "      <td></td>\n",
              "      <td>227300</td>\n",
              "      <td>0 of 1 people (0%) found this review helpful</td>\n",
              "      <td>True</td>\n",
              "      <td>For a simple (it's actually not all that simpl...</td>\n",
              "      <td>2</td>\n",
              "    </tr>\n",
              "    <tr>\n",
              "      <th>5</th>\n",
              "      <td>Wackky</td>\n",
              "      <td>http://steamcommunity.com/id/Wackky</td>\n",
              "      <td></td>\n",
              "      <td>2013-11-29</td>\n",
              "      <td></td>\n",
              "      <td>239030</td>\n",
              "      <td>1 of 4 people (25%) found this review helpful</td>\n",
              "      <td>True</td>\n",
              "      <td>Very fun little game to play when your bored o...</td>\n",
              "      <td>2</td>\n",
              "    </tr>\n",
              "    <tr>\n",
              "      <th>6</th>\n",
              "      <td>76561198079601835</td>\n",
              "      <td>http://steamcommunity.com/profiles/76561198079...</td>\n",
              "      <td></td>\n",
              "      <td>NaT</td>\n",
              "      <td></td>\n",
              "      <td>248820</td>\n",
              "      <td>No ratings yet</td>\n",
              "      <td>True</td>\n",
              "      <td>A suitably punishing roguelike platformer.  Wi...</td>\n",
              "      <td>2</td>\n",
              "    </tr>\n",
              "    <tr>\n",
              "      <th>7</th>\n",
              "      <td>MeaTCompany</td>\n",
              "      <td>http://steamcommunity.com/id/MeaTCompany</td>\n",
              "      <td></td>\n",
              "      <td>2015-12-04</td>\n",
              "      <td>Last edited December 5, 2015.</td>\n",
              "      <td>370360</td>\n",
              "      <td>No ratings yet</td>\n",
              "      <td>True</td>\n",
              "      <td>\"Run for fun? What the hell kind of fun is that?\"</td>\n",
              "      <td>2</td>\n",
              "    </tr>\n",
              "    <tr>\n",
              "      <th>8</th>\n",
              "      <td>76561198089393905</td>\n",
              "      <td>http://steamcommunity.com/profiles/76561198089...</td>\n",
              "      <td></td>\n",
              "      <td>2014-11-03</td>\n",
              "      <td></td>\n",
              "      <td>237930</td>\n",
              "      <td>No ratings yet</td>\n",
              "      <td>True</td>\n",
              "      <td>Elegant integration of gameplay, story, world ...</td>\n",
              "      <td>2</td>\n",
              "    </tr>\n",
              "    <tr>\n",
              "      <th>9</th>\n",
              "      <td>76561198156664158</td>\n",
              "      <td>http://steamcommunity.com/profiles/76561198156...</td>\n",
              "      <td></td>\n",
              "      <td>2014-10-15</td>\n",
              "      <td></td>\n",
              "      <td>263360</td>\n",
              "      <td>No ratings yet</td>\n",
              "      <td>True</td>\n",
              "      <td>Random drops and random quests, with stat poin...</td>\n",
              "      <td>1</td>\n",
              "    </tr>\n",
              "  </tbody>\n",
              "</table>\n",
              "</div>"
            ],
            "text/plain": [
              "             user_id                                           user_url funny  \\\n",
              "0  76561197970982479  http://steamcommunity.com/profiles/76561197970...         \n",
              "1            js41637               http://steamcommunity.com/id/js41637         \n",
              "2          evcentric             http://steamcommunity.com/id/evcentric         \n",
              "3              doctr                 http://steamcommunity.com/id/doctr         \n",
              "4          maplemage             http://steamcommunity.com/id/maplemage         \n",
              "5             Wackky                http://steamcommunity.com/id/Wackky         \n",
              "6  76561198079601835  http://steamcommunity.com/profiles/76561198079...         \n",
              "7        MeaTCompany           http://steamcommunity.com/id/MeaTCompany         \n",
              "8  76561198089393905  http://steamcommunity.com/profiles/76561198089...         \n",
              "9  76561198156664158  http://steamcommunity.com/profiles/76561198156...         \n",
              "\n",
              "      posted                    last_edited item_id  \\\n",
              "0 2011-11-05                                   1250   \n",
              "1 2011-07-15                                  22200   \n",
              "2 2011-04-21                                  43110   \n",
              "3 2014-06-24                                 251610   \n",
              "4 2013-09-08                                 227300   \n",
              "5 2013-11-29                                 239030   \n",
              "6        NaT                                 248820   \n",
              "7 2015-12-04  Last edited December 5, 2015.  370360   \n",
              "8 2014-11-03                                 237930   \n",
              "9 2014-10-15                                 263360   \n",
              "\n",
              "                                           helpful recommend  \\\n",
              "0                                   No ratings yet      True   \n",
              "1                                   No ratings yet      True   \n",
              "2                                   No ratings yet      True   \n",
              "3  15 of 20 people (75%) found this review helpful      True   \n",
              "4     0 of 1 people (0%) found this review helpful      True   \n",
              "5    1 of 4 people (25%) found this review helpful      True   \n",
              "6                                   No ratings yet      True   \n",
              "7                                   No ratings yet      True   \n",
              "8                                   No ratings yet      True   \n",
              "9                                   No ratings yet      True   \n",
              "\n",
              "                                              review  sentiment_analysis  \n",
              "0  Simple yet with great replayability. In my opi...                   2  \n",
              "1               It's unique and worth a playthrough.                   2  \n",
              "2  Great atmosphere. The gunplay can be a bit chu...                   2  \n",
              "3  I know what you think when you see this title ...                   2  \n",
              "4  For a simple (it's actually not all that simpl...                   2  \n",
              "5  Very fun little game to play when your bored o...                   2  \n",
              "6  A suitably punishing roguelike platformer.  Wi...                   2  \n",
              "7  \"Run for fun? What the hell kind of fun is that?\"                   2  \n",
              "8  Elegant integration of gameplay, story, world ...                   2  \n",
              "9  Random drops and random quests, with stat poin...                   1  "
            ]
          },
          "execution_count": 11,
          "metadata": {},
          "output_type": "execute_result"
        }
      ],
      "source": [
        "df_user_r.head(10)"
      ]
    },
    {
      "cell_type": "markdown",
      "metadata": {
        "id": "PmplAqPywggm"
      },
      "source": [
        "### Guardado"
      ]
    },
    {
      "cell_type": "code",
      "execution_count": 12,
      "metadata": {
        "id": "qTOLGd85aupU"
      },
      "outputs": [],
      "source": [
        "ruta_guardado_csv = 'datasets/user_reviews.csv'\n",
        "\n",
        "# Guardar el DataFrame en un archivo CSV\n",
        "df_user_r.to_csv(ruta_guardado_csv, index=False)\n",
        "\n",
        "# Esto guardará el DataFrame 'df_user_r' en un archivo CSV sin incluir el índice\n"
      ]
    },
    {
      "cell_type": "markdown",
      "metadata": {
        "id": "qAGAgJ5k3mea"
      },
      "source": [
        "# ***TRANSFORMACIONES***"
      ]
    },
    {
      "cell_type": "markdown",
      "metadata": {
        "id": "L15KEBOusar6"
      },
      "source": [
        "# **Steam Games**"
      ]
    },
    {
      "cell_type": "code",
      "execution_count": 2,
      "metadata": {
        "id": "kkNLRUF03O19"
      },
      "outputs": [],
      "source": [
        "# Descomprimo el archivo steam games\n",
        "\n",
        "# Ruta comprimida\n",
        "ruta_comprimida_sg = 'datasets/steam_games.json.gz'\n",
        "\n",
        "# Ruta temporal\n",
        "ruta_temporal_sg = 'datasets/steam_games.json'\n",
        "\n",
        "# Descomprimo\n",
        "with gzip.open(ruta_comprimida_sg, 'rb') as f_in:\n",
        "    with open(ruta_temporal_sg, 'wb') as f_out:\n",
        "            shutil.copyfileobj(f_in, f_out)"
      ]
    },
    {
      "cell_type": "code",
      "execution_count": 3,
      "metadata": {
        "id": "1d6OI0yZSHrN"
      },
      "outputs": [],
      "source": [
        "# Lo guardo en un pd que me permite leerlo\n",
        "df_steam_g = pd.read_json(ruta_temporal_sg, lines = True)"
      ]
    },
    {
      "cell_type": "markdown",
      "metadata": {
        "id": "3OoqF8um4Cvz"
      },
      "source": [
        "# ***FEATURE ENGINEERING***"
      ]
    },
    {
      "cell_type": "markdown",
      "metadata": {
        "id": "GK72BK4HS0tn"
      },
      "source": [
        "### Limpieza"
      ]
    },
    {
      "cell_type": "code",
      "execution_count": 6,
      "metadata": {
        "colab": {
          "base_uri": "https://localhost:8080/"
        },
        "id": "rlF9XIyQugyk",
        "outputId": "165ee912-cb9b-4d35-df9d-9b37d2e363fb"
      },
      "outputs": [],
      "source": [
        "# Convierto las columnas que son listas a cadenas de texto (str)\n",
        "df_steam_g['genres'] = df_steam_g['genres'].apply(lambda x: ', '.join(map(str, x)) if isinstance(x, list) else x)\n",
        "df_steam_g['tags'] = df_steam_g['tags'].apply(lambda x: ', '.join(map(str, x)) if isinstance(x, list) else x)\n",
        "df_steam_g['specs'] = df_steam_g['specs'].apply(lambda x: ', '.join(map(str, x)) if isinstance(x, list) else x)\n",
        "\n",
        "# Convierto la columna release_date a formato de fecha\n",
        "df_steam_g['release_date'] = pd.to_datetime(df_steam_g['release_date'], errors='coerce')\n"
      ]
    },
    {
      "cell_type": "code",
      "execution_count": 7,
      "metadata": {
        "id": "iG8bU-1Vte5i"
      },
      "outputs": [],
      "source": [
        "# Elimino las filas donde todos los valores son nulos y reemplazo los valores NaN con None,\n",
        "#también elimino filas duplicadas\n",
        "\n",
        "# Eliminar filas donde todos los valores son nulos (None o NaN)\n",
        "df_steam_g = df_steam_g.dropna(how='all')\n",
        "\n",
        "# Reemplazar NaN con None\n",
        "df_steam_g = df_steam_g.where(pd.notna(df_steam_g), None)\n",
        "\n",
        "# Eliminar filas duplicadas\n",
        "df_steam_g = df_steam_g.drop_duplicates()"
      ]
    },
    {
      "cell_type": "code",
      "execution_count": 8,
      "metadata": {
        "id": "_wqYCqnkKXJo"
      },
      "outputs": [],
      "source": [
        "# La columna early_access no estaba devolviendo valores bool como debía, asi que la transformo en uno\n",
        "df_steam_g['early_access'] = df_steam_g['early_access'].astype(bool)"
      ]
    },
    {
      "cell_type": "markdown",
      "metadata": {
        "id": "6qBzIC9VwGag"
      },
      "source": [
        "### Guardado"
      ]
    },
    {
      "cell_type": "code",
      "execution_count": 9,
      "metadata": {
        "id": "wcUfwNpYbjDF"
      },
      "outputs": [],
      "source": [
        "ruta_guardado_csv = '/datasets/steam_games.csv'\n",
        "\n",
        "# Guardar el DataFrame en un archivo CSV\n",
        "df_steam_g.to_csv(ruta_guardado_csv, index=False)\n",
        "\n",
        "# Esto guardará el DataFrame 'df_steam_games' en un archivo CSV sin incluir el índice"
      ]
    },
    {
      "cell_type": "markdown",
      "metadata": {
        "id": "30DfMgx-3v3V"
      },
      "source": [
        "# ***TRANSFORMACIONES***"
      ]
    },
    {
      "cell_type": "markdown",
      "metadata": {
        "id": "29Fmc-cEvX99"
      },
      "source": [
        "# **Users Items**"
      ]
    },
    {
      "cell_type": "code",
      "execution_count": 4,
      "metadata": {
        "id": "-POBuKfd4qNj"
      },
      "outputs": [],
      "source": [
        "# Descomprimo el archivo user items\n",
        "\n",
        "# Ruta comprimida\n",
        "ruta_comprimida_ui = 'datasets/users_items.json.gz'\n",
        "\n",
        "# Ruta temporal\n",
        "ruta_temporal_ui = 'datasets/users_items.json'\n",
        "\n",
        "# Descomprimo\n",
        "with gzip.open(ruta_comprimida_ui, 'rb') as f_in:\n",
        "    with open(ruta_temporal_ui, 'wb') as f_out:\n",
        "            shutil.copyfileobj(f_in, f_out)"
      ]
    },
    {
      "cell_type": "code",
      "execution_count": 6,
      "metadata": {},
      "outputs": [],
      "source": [
        "# lista_ui es una lista para almacenar los diccionarios obtenidos del archivo JSON\n",
        "lista_ui = []\n",
        "\n",
        "# Abro el archivo con la ruta especificada, utilizando el encoding 'utf-8'\n",
        "with open(ruta_temporal_ui, encoding='utf-8') as file:\n",
        "    # Itero sobre cada línea del archivo\n",
        "    for line in file.readlines():\n",
        "        # Convierto cada línea (que se asume contiene un diccionario JSON válido) a un diccionario de Python\n",
        "        # Utilizo ast.literal_eval() para interpretar la línea como una expresión literal de Python\n",
        "        lista_ui.append(ast.literal_eval(line))"
      ]
    },
    {
      "cell_type": "code",
      "execution_count": null,
      "metadata": {},
      "outputs": [],
      "source": [
        "# Guardo la lista en un DataFrame\n",
        "df_users_i = pd.DataFrame(lista_ui)"
      ]
    },
    {
      "cell_type": "code",
      "execution_count": null,
      "metadata": {
        "id": "9ozq2g5KwJn3"
      },
      "outputs": [],
      "source": [
        "# Expandir los diccionarios en las listas de la columna 'reviews' en nuevas columnas\n",
        "df_expand = pd.json_normalize(df_users_i['items'].explode())\n",
        "\n",
        "# Concatenar las columnas expandidas con el DataFrame original y eliminar la columna 'reviews'\n",
        "df_users_i = pd.concat([df_users_i.drop(columns='items'), df_expand], axis=1)"
      ]
    },
    {
      "cell_type": "markdown",
      "metadata": {
        "id": "HYe4tsJU3-Wb"
      },
      "source": [
        "# ***FEATURE ENGINEERING***"
      ]
    },
    {
      "cell_type": "markdown",
      "metadata": {
        "id": "T2VCfrucWtUi"
      },
      "source": [
        "### Limpieza"
      ]
    },
    {
      "cell_type": "code",
      "execution_count": null,
      "metadata": {
        "id": "mqyvIUIbVxSj"
      },
      "outputs": [],
      "source": [
        "# Eliminar filas duplicadas basadas en todas las columnas del DataFrame\n",
        "ui_sin_duplicados = df_users_i.drop_duplicates()\n",
        "\n",
        "# Eliminar nulos\n",
        "df_users_i = df_users_i.dropna()"
      ]
    },
    {
      "cell_type": "code",
      "execution_count": null,
      "metadata": {
        "id": "vjz0HrutxEVz"
      },
      "outputs": [],
      "source": [
        "df_users_i.head(10)"
      ]
    },
    {
      "cell_type": "markdown",
      "metadata": {
        "id": "DO6fVLLjv5VE"
      },
      "source": [
        "### Guardado"
      ]
    },
    {
      "cell_type": "code",
      "execution_count": null,
      "metadata": {
        "id": "aNFX-awCbzT-"
      },
      "outputs": [],
      "source": [
        "ruta_guardado_csv = 'datasets/users_items.csv'\n",
        "\n",
        "# Guardar el DataFrame en un archivo CSV\n",
        "df_users_i.to_csv(ruta_guardado_csv, index=False)\n",
        "\n",
        "# Esto guardará el DataFrame 'df_users_items' en un archivo CSV sin incluir el índice\n"
      ]
    }
  ],
  "metadata": {
    "colab": {
      "provenance": []
    },
    "kernelspec": {
      "display_name": "Python 3",
      "name": "python3"
    },
    "language_info": {
      "codemirror_mode": {
        "name": "ipython",
        "version": 3
      },
      "file_extension": ".py",
      "mimetype": "text/x-python",
      "name": "python",
      "nbconvert_exporter": "python",
      "pygments_lexer": "ipython3",
      "version": "3.10.0"
    }
  },
  "nbformat": 4,
  "nbformat_minor": 0
}
